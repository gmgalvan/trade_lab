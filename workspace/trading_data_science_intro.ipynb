{
 "cells": [
  {
   "cell_type": "markdown",
   "id": "a638a45e-e91f-4955-8706-192a34679783",
   "metadata": {},
   "source": [
    "# Trading Data Science - Hello World\n",
    "## A basic introduction to analyzing trading data with Python and LaTeX formulas\n",
    "\n",
    "This notebook demonstrates essential financial calculations with mathematical formulas."
   ]
  },
  {
   "cell_type": "code",
   "execution_count": 35,
   "id": "fb828f6d-0766-49da-a642-979a2cf034ae",
   "metadata": {},
   "outputs": [
    {
     "name": "stdout",
     "output_type": "stream",
     "text": [
      "🚀 Welcome to Trading Data Science with LaTeX!\n",
      "==================================================\n"
     ]
    }
   ],
   "source": [
    "import pandas as pd\n",
    "import numpy as np\n",
    "import matplotlib.pyplot as plt\n",
    "import seaborn as sns\n",
    "from datetime import datetime\n",
    "from IPython.display import display, Markdown\n",
    "import warnings\n",
    "warnings.filterwarnings('ignore')\n",
    "\n",
    "# Configure matplotlib for math rendering\n",
    "plt.rcParams['text.usetex'] = True\n",
    "plt.rcParams['mathtext.fontset'] = 'cm'\n",
    "plt.rcParams['font.family'] = 'serif'\n",
    "\n",
    "print(\"🚀 Welcome to Trading Data Science with LaTeX!\")\n",
    "print(\"=\" * 50)"
   ]
  },
  {
   "cell_type": "markdown",
   "id": "math-intro",
   "metadata": {},
   "source": [
    "## Core Financial Mathematics"
   ]
  },
  {
   "cell_type": "code",
   "execution_count": 36,
   "id": "latex-formulas",
   "metadata": {},
   "outputs": [
    {
     "data": {
      "text/markdown": [
       "\n",
       "### Essential Financial Formulas\n",
       "\n",
       "**Simple Return:**\n",
       "$$R_t = \\frac{P_t - P_{t-1}}{P_{t-1}} = \\frac{P_t}{P_{t-1}} - 1$$\n",
       "\n",
       "**Volatility (Standard Deviation):**\n",
       "$$\\sigma = \\sqrt{\\frac{1}{n-1} \\sum_{i=1}^{n} (R_i - \\bar{R})^2}$$\n",
       "\n",
       "**Simple Moving Average:**\n",
       "$$SMA_n = \\frac{1}{n} \\sum_{i=0}^{n-1} P_{t-i}$$\n",
       "\n",
       "**Sharpe Ratio:**\n",
       "$$\\text{Sharpe} = \\frac{R_p - R_f}{\\sigma_p}$$\n"
      ],
      "text/plain": [
       "<IPython.core.display.Markdown object>"
      ]
     },
     "metadata": {},
     "output_type": "display_data"
    }
   ],
   "source": [
    "display(Markdown(r\"\"\"\n",
    "### Essential Financial Formulas\n",
    "\n",
    "**Simple Return:**\n",
    "$$R_t = \\frac{P_t - P_{t-1}}{P_{t-1}} = \\frac{P_t}{P_{t-1}} - 1$$\n",
    "\n",
    "**Volatility (Standard Deviation):**\n",
    "$$\\sigma = \\sqrt{\\frac{1}{n-1} \\sum_{i=1}^{n} (R_i - \\bar{R})^2}$$\n",
    "\n",
    "**Simple Moving Average:**\n",
    "$$SMA_n = \\frac{1}{n} \\sum_{i=0}^{n-1} P_{t-i}$$\n",
    "\n",
    "**Sharpe Ratio:**\n",
    "$$\\text{Sharpe} = \\frac{R_p - R_f}{\\sigma_p}$$\n",
    "\"\"\"))"
   ]
  },
  {
   "cell_type": "markdown",
   "id": "data-generation",
   "metadata": {},
   "source": [
    "## Data Generation\n",
    "Create sample OHLCV trading data (replace with `pd.read_csv('your_file.csv')` for real data)"
   ]
  },
  {
   "cell_type": "code",
   "execution_count": 37,
   "id": "data-creation",
   "metadata": {},
   "outputs": [
    {
     "name": "stdout",
     "output_type": "stream",
     "text": [
      "📊 Dataset created successfully!\n",
      "Shape: (366, 6)\n",
      "Date range: 2024-01-01 to 2024-12-31\n",
      "\n",
      "📋 First 5 rows of data:\n"
     ]
    },
    {
     "data": {
      "text/html": [
       "<div>\n",
       "<style scoped>\n",
       "    .dataframe tbody tr th:only-of-type {\n",
       "        vertical-align: middle;\n",
       "    }\n",
       "\n",
       "    .dataframe tbody tr th {\n",
       "        vertical-align: top;\n",
       "    }\n",
       "\n",
       "    .dataframe thead th {\n",
       "        text-align: right;\n",
       "    }\n",
       "</style>\n",
       "<table border=\"1\" class=\"dataframe\">\n",
       "  <thead>\n",
       "    <tr style=\"text-align: right;\">\n",
       "      <th></th>\n",
       "      <th>Date</th>\n",
       "      <th>Open</th>\n",
       "      <th>High</th>\n",
       "      <th>Low</th>\n",
       "      <th>Close</th>\n",
       "      <th>Volume</th>\n",
       "    </tr>\n",
       "  </thead>\n",
       "  <tbody>\n",
       "    <tr>\n",
       "      <th>0</th>\n",
       "      <td>2024-01-01</td>\n",
       "      <td>100.01</td>\n",
       "      <td>100.22</td>\n",
       "      <td>99.78</td>\n",
       "      <td>100.00</td>\n",
       "      <td>1423570</td>\n",
       "    </tr>\n",
       "    <tr>\n",
       "      <th>1</th>\n",
       "      <td>2024-01-02</td>\n",
       "      <td>100.07</td>\n",
       "      <td>99.85</td>\n",
       "      <td>99.80</td>\n",
       "      <td>99.82</td>\n",
       "      <td>3114792</td>\n",
       "    </tr>\n",
       "    <tr>\n",
       "      <th>2</th>\n",
       "      <td>2024-01-03</td>\n",
       "      <td>100.73</td>\n",
       "      <td>101.93</td>\n",
       "      <td>100.51</td>\n",
       "      <td>101.22</td>\n",
       "      <td>7925877</td>\n",
       "    </tr>\n",
       "    <tr>\n",
       "      <th>3</th>\n",
       "      <td>2024-01-04</td>\n",
       "      <td>104.50</td>\n",
       "      <td>105.31</td>\n",
       "      <td>103.49</td>\n",
       "      <td>104.40</td>\n",
       "      <td>6118922</td>\n",
       "    </tr>\n",
       "    <tr>\n",
       "      <th>4</th>\n",
       "      <td>2024-01-05</td>\n",
       "      <td>104.52</td>\n",
       "      <td>104.13</td>\n",
       "      <td>103.90</td>\n",
       "      <td>104.02</td>\n",
       "      <td>1160775</td>\n",
       "    </tr>\n",
       "  </tbody>\n",
       "</table>\n",
       "</div>"
      ],
      "text/plain": [
       "        Date    Open    High     Low   Close   Volume\n",
       "0 2024-01-01  100.01  100.22   99.78  100.00  1423570\n",
       "1 2024-01-02  100.07   99.85   99.80   99.82  3114792\n",
       "2 2024-01-03  100.73  101.93  100.51  101.22  7925877\n",
       "3 2024-01-04  104.50  105.31  103.49  104.40  6118922\n",
       "4 2024-01-05  104.52  104.13  103.90  104.02  1160775"
      ]
     },
     "metadata": {},
     "output_type": "display_data"
    }
   ],
   "source": [
    "# Set random seed for reproducibility\n",
    "np.random.seed(42)\n",
    "dates = pd.date_range(start='2024-01-01', end='2024-12-31', freq='D')\n",
    "n_days = len(dates)\n",
    "\n",
    "# Generate realistic price data\n",
    "base_price = 100\n",
    "price_changes = np.random.normal(0.001, 0.02, n_days)  # Daily returns: mean 0.1%, std 2%\n",
    "prices = [base_price]\n",
    "\n",
    "for change in price_changes[1:]:\n",
    "    new_price = prices[-1] * (1 + change)\n",
    "    prices.append(new_price)\n",
    "\n",
    "# Create OHLCV data\n",
    "data = []\n",
    "for i, (date, close) in enumerate(zip(dates, prices)):\n",
    "    volatility = abs(np.random.normal(0, 0.01))\n",
    "    high = close * (1 + volatility)\n",
    "    low = close * (1 - volatility)\n",
    "    open_price = close + np.random.normal(0, close * 0.005)\n",
    "    volume = np.random.randint(1000000, 10000000)\n",
    "    \n",
    "    data.append({\n",
    "        'Date': date,\n",
    "        'Open': round(open_price, 2),\n",
    "        'High': round(high, 2),\n",
    "        'Low': round(low, 2),\n",
    "        'Close': round(close, 2),\n",
    "        'Volume': volume\n",
    "    })\n",
    "\n",
    "df = pd.DataFrame(data)\n",
    "\n",
    "print(f\"📊 Dataset created successfully!\")\n",
    "print(f\"Shape: {df.shape}\")\n",
    "print(f\"Date range: {df['Date'].min().strftime('%Y-%m-%d')} to {df['Date'].max().strftime('%Y-%m-%d')}\")\n",
    "print(\"\\n📋 First 5 rows of data:\")\n",
    "display(df.head())"
   ]
  },
  {
   "cell_type": "markdown",
   "id": "basic-stats",
   "metadata": {},
   "source": [
    "## Basic Trading Statistics"
   ]
  },
  {
   "cell_type": "code",
   "execution_count": 38,
   "id": "price-stats",
   "metadata": {},
   "outputs": [
    {
     "name": "stdout",
     "output_type": "stream",
     "text": [
      "📈 BASIC TRADING STATISTICS\n",
      "==============================\n",
      "Starting Price: $100.00\n",
      "Ending Price: $142.51\n",
      "Highest Price: $150.98\n",
      "Lowest Price: $80.54\n",
      "\n",
      "Average Daily Return: 0.115%\n",
      "Daily Volatility: 1.896%\n",
      "Total Return: 42.51%\n",
      "\n",
      "Average Daily Volume: 5,505,321\n",
      "Total Volume Traded: 2,014,947,484\n"
     ]
    }
   ],
   "source": [
    "print(\"📈 BASIC TRADING STATISTICS\")\n",
    "print(\"=\" * 30)\n",
    "\n",
    "# Price statistics\n",
    "print(f\"Starting Price: ${df['Close'].iloc[0]:.2f}\")\n",
    "print(f\"Ending Price: ${df['Close'].iloc[-1]:.2f}\")\n",
    "print(f\"Highest Price: ${df['High'].max():.2f}\")\n",
    "print(f\"Lowest Price: ${df['Low'].min():.2f}\")\n",
    "\n",
    "# Calculate returns\n",
    "df['Daily_Return'] = df['Close'].pct_change()\n",
    "df['Daily_Return_Pct'] = df['Daily_Return'] * 100\n",
    "\n",
    "# Return statistics\n",
    "avg_return = df['Daily_Return'].mean() * 100\n",
    "volatility = df['Daily_Return'].std() * 100\n",
    "total_return = ((df['Close'].iloc[-1] / df['Close'].iloc[0]) - 1) * 100\n",
    "\n",
    "print(f\"\\nAverage Daily Return: {avg_return:.3f}%\")\n",
    "print(f\"Daily Volatility: {volatility:.3f}%\")\n",
    "print(f\"Total Return: {total_return:.2f}%\")\n",
    "\n",
    "# Volume statistics\n",
    "print(f\"\\nAverage Daily Volume: {df['Volume'].mean():,.0f}\")\n",
    "print(f\"Total Volume Traded: {df['Volume'].sum():,.0f}\")"
   ]
  },
  {
   "cell_type": "markdown",
   "id": "technical-indicators",
   "metadata": {},
   "source": [
    "## Technical Indicators"
   ]
  },
  {
   "cell_type": "code",
   "execution_count": 39,
   "id": "moving-averages",
   "metadata": {},
   "outputs": [
    {
     "name": "stdout",
     "output_type": "stream",
     "text": [
      "Current 20-day SMA: $137.18\n",
      "Current 50-day SMA: $140.55\n",
      "Current RSI: 65.1\n"
     ]
    }
   ],
   "source": [
    "# Calculate moving averages\n",
    "df['SMA_20'] = df['Close'].rolling(window=20).mean()\n",
    "df['SMA_50'] = df['Close'].rolling(window=50).mean()\n",
    "\n",
    "print(f\"Current 20-day SMA: ${df['SMA_20'].iloc[-1]:.2f}\")\n",
    "print(f\"Current 50-day SMA: ${df['SMA_50'].iloc[-1]:.2f}\")\n",
    "\n",
    "# RSI calculation\n",
    "def calculate_rsi(prices, window=14):\n",
    "    delta = prices.diff()\n",
    "    gain = (delta.where(delta > 0, 0)).rolling(window=window).mean()\n",
    "    loss = (-delta.where(delta < 0, 0)).rolling(window=window).mean()\n",
    "    rs = gain / loss\n",
    "    rsi = 100 - (100 / (1 + rs))\n",
    "    return rsi\n",
    "\n",
    "df['RSI'] = calculate_rsi(df['Close'])\n",
    "print(f\"Current RSI: {df['RSI'].iloc[-1]:.1f}\")"
   ]
  },
  {
   "cell_type": "markdown",
   "id": "risk-metrics",
   "metadata": {},
   "source": [
    "## Risk Analysis"
   ]
  },
  {
   "cell_type": "code",
   "execution_count": 40,
   "id": "risk-calculations",
   "metadata": {},
   "outputs": [
    {
     "data": {
      "text/markdown": [
       "\n",
       "### Risk Metrics\n",
       "\n",
       "**Maximum Drawdown:**\n",
       "$$MDD = \\max_{t} \\left[ \\frac{\\text{Peak}_t - \\text{Trough}_t}{\\text{Peak}_t} \\right]$$\n",
       "\n",
       "**Value at Risk (95%):**\n",
       "$$VaR_{95\\%} = \\text{5th percentile of daily returns}$$\n"
      ],
      "text/plain": [
       "<IPython.core.display.Markdown object>"
      ]
     },
     "metadata": {},
     "output_type": "display_data"
    },
    {
     "name": "stdout",
     "output_type": "stream",
     "text": [
      "🔢 RISK ANALYSIS\n",
      "===============\n",
      "Sharpe Ratio: 0.896\n",
      "Maximum Drawdown: -25.51%\n",
      "VaR (95%): -2.79%\n"
     ]
    }
   ],
   "source": [
    "display(Markdown(r\"\"\"\n",
    "### Risk Metrics\n",
    "\n",
    "**Maximum Drawdown:**\n",
    "$$MDD = \\max_{t} \\left[ \\frac{\\text{Peak}_t - \\text{Trough}_t}{\\text{Peak}_t} \\right]$$\n",
    "\n",
    "**Value at Risk (95%):**\n",
    "$$VaR_{95\\%} = \\text{5th percentile of daily returns}$$\n",
    "\"\"\"))\n",
    "\n",
    "# Calculate risk metrics\n",
    "risk_free_rate = 0.02 / 252  # 2% annual risk-free rate, daily\n",
    "excess_returns = df['Daily_Return'] - risk_free_rate\n",
    "sharpe_ratio = excess_returns.mean() / excess_returns.std() * np.sqrt(252)\n",
    "\n",
    "# Maximum Drawdown\n",
    "df['Cumulative'] = (1 + df['Daily_Return']).cumprod()\n",
    "df['Running_Max'] = df['Cumulative'].expanding().max()\n",
    "df['Drawdown'] = (df['Cumulative'] - df['Running_Max']) / df['Running_Max']\n",
    "max_drawdown = df['Drawdown'].min() * 100\n",
    "\n",
    "# VaR (95% confidence)\n",
    "var_95 = np.percentile(df['Daily_Return'].dropna(), 5) * 100\n",
    "\n",
    "print(\"🔢 RISK ANALYSIS\")\n",
    "print(\"=\" * 15)\n",
    "print(f\"Sharpe Ratio: {sharpe_ratio:.3f}\")\n",
    "print(f\"Maximum Drawdown: {max_drawdown:.2f}%\")\n",
    "print(f\"VaR (95%): {var_95:.2f}%\")"
   ]
  },
  {
   "cell_type": "markdown",
   "id": "trading-signals",
   "metadata": {},
   "source": [
    "## Simple Trading Strategy"
   ]
  },
  {
   "cell_type": "code",
   "execution_count": 33,
   "id": "strategy-analysis",
   "metadata": {},
   "outputs": [
    {
     "name": "stdout",
     "output_type": "stream",
     "text": [
      "📊 CURRENT ANALYSIS\n",
      "====================\n",
      "Current Price: $142.51\n",
      "20-day SMA: $137.18\n",
      "RSI: 65.1\n",
      "\n",
      "📈 Signal: 🟢 BUY\n",
      "\n",
      "📊 BACKTEST RESULTS\n",
      "Strategy Return: -23.60%\n",
      "Buy & Hold Return: 42.51%\n",
      "Excess Return: -66.11%\n"
     ]
    }
   ],
   "source": [
    "# Generate trading signals\n",
    "current_price = df['Close'].iloc[-1]\n",
    "current_sma20 = df['SMA_20'].iloc[-1]\n",
    "current_rsi = df['RSI'].iloc[-1]\n",
    "\n",
    "# Simple signal logic\n",
    "if current_price > current_sma20 and current_rsi < 70:\n",
    "    signal = \"🟢 BUY\"\n",
    "elif current_price < current_sma20 or current_rsi > 70:\n",
    "    signal = \"🔴 SELL\"\n",
    "else:\n",
    "    signal = \"🟡 HOLD\"\n",
    "\n",
    "print(\"📊 CURRENT ANALYSIS\")\n",
    "print(\"=\" * 20)\n",
    "print(f\"Current Price: ${current_price:.2f}\")\n",
    "print(f\"20-day SMA: ${current_sma20:.2f}\")\n",
    "print(f\"RSI: {current_rsi:.1f}\")\n",
    "print(f\"\\n📈 Signal: {signal}\")\n",
    "\n",
    "# Basic backtest\n",
    "df['Signal'] = 0\n",
    "df.loc[(df['Close'] > df['SMA_20']) & (df['RSI'] < 70), 'Signal'] = 1\n",
    "df.loc[(df['Close'] < df['SMA_20']) | (df['RSI'] > 70), 'Signal'] = -1\n",
    "\n",
    "df['Next_Return'] = df['Daily_Return'].shift(-1)\n",
    "df['Strategy_Return'] = df['Signal'] * df['Next_Return']\n",
    "\n",
    "strategy_total = (1 + df['Strategy_Return'].fillna(0)).cumprod().iloc[-1] - 1\n",
    "buy_hold_return = (df['Close'].iloc[-1] / df['Close'].iloc[0]) - 1\n",
    "\n",
    "print(f\"\\n📊 BACKTEST RESULTS\")\n",
    "print(f\"Strategy Return: {strategy_total*100:.2f}%\")\n",
    "print(f\"Buy & Hold Return: {buy_hold_return*100:.2f}%\")\n",
    "print(f\"Excess Return: {(strategy_total - buy_hold_return)*100:.2f}%\")"
   ]
  },
  {
   "cell_type": "markdown",
   "id": "summary",
   "metadata": {},
   "source": [
    "## Summary Report"
   ]
  },
  {
   "cell_type": "code",
   "execution_count": 34,
   "id": "final-summary",
   "metadata": {},
   "outputs": [
    {
     "data": {
      "text/markdown": [
       "\n",
       "# 📋 TRADING ANALYSIS SUMMARY\n",
       "\n",
       "## Performance Overview\n",
       "- **Analysis Period**: 2024-01-01 to 2024-12-31\n",
       "- **Total Return**: 42.51%\n",
       "- **Daily Volatility**: 1.90%\n",
       "- **Sharpe Ratio**: 0.896\n",
       "- **Max Drawdown**: -25.51%\n",
       "\n",
       "## Current Status\n",
       "- **Price**: $142.51\n",
       "- **Trend**: Bullish\n",
       "- **RSI**: 65.1 (Neutral)\n",
       "- **Signal**: 🟢 BUY\n",
       "\n",
       "## Mathematical Models Applied\n",
       "✅ **Returns & Volatility Calculations**  \n",
       "✅ **Moving Averages (SMA)**  \n",
       "✅ **RSI Technical Indicator**  \n",
       "✅ **Risk Metrics (Sharpe, VaR, Drawdown)**  \n",
       "✅ **Simple Trading Strategy Backtest**  \n",
       "\n",
       "---\n",
       "*Educational purposes only. Past performance ≠ future results.*\n"
      ],
      "text/plain": [
       "<IPython.core.display.Markdown object>"
      ]
     },
     "metadata": {},
     "output_type": "display_data"
    },
    {
     "name": "stdout",
     "output_type": "stream",
     "text": [
      "\n",
      "🎉 ANALYSIS COMPLETE!\n",
      "=========================\n",
      "This basic trading notebook demonstrates:\n",
      "✓ Essential financial formulas with LaTeX\n",
      "✓ Basic technical analysis\n",
      "✓ Risk calculations\n",
      "✓ Simple visualizations\n",
      "✓ Trading strategy backtest\n",
      "\n",
      "Next Steps:\n",
      "1. Load real market data\n",
      "2. Add more indicators\n",
      "3. Improve strategy logic\n",
      "4. Expand risk analysis\n"
     ]
    }
   ],
   "source": [
    "display(Markdown(f\"\"\"\n",
    "# 📋 TRADING ANALYSIS SUMMARY\n",
    "\n",
    "## Performance Overview\n",
    "- **Analysis Period**: {df['Date'].min().strftime('%Y-%m-%d')} to {df['Date'].max().strftime('%Y-%m-%d')}\n",
    "- **Total Return**: {total_return:.2f}%\n",
    "- **Daily Volatility**: {volatility:.2f}%\n",
    "- **Sharpe Ratio**: {sharpe_ratio:.3f}\n",
    "- **Max Drawdown**: {max_drawdown:.2f}%\n",
    "\n",
    "## Current Status\n",
    "- **Price**: ${current_price:.2f}\n",
    "- **Trend**: {'Bullish' if current_price > current_sma20 else 'Bearish'}\n",
    "- **RSI**: {current_rsi:.1f} ({'Overbought' if current_rsi > 70 else 'Oversold' if current_rsi < 30 else 'Neutral'})\n",
    "- **Signal**: {signal}\n",
    "\n",
    "## Mathematical Models Applied\n",
    "✅ **Returns & Volatility Calculations**  \n",
    "✅ **Moving Averages (SMA)**  \n",
    "✅ **RSI Technical Indicator**  \n",
    "✅ **Risk Metrics (Sharpe, VaR, Drawdown)**  \n",
    "✅ **Simple Trading Strategy Backtest**  \n",
    "\n",
    "---\n",
    "*Educational purposes only. Past performance ≠ future results.*\n",
    "\"\"\"))\n",
    "\n",
    "print(\"\\n🎉 ANALYSIS COMPLETE!\")\n",
    "print(\"=\" * 25)\n",
    "print(\"This basic trading notebook demonstrates:\")\n",
    "print(\"✓ Essential financial formulas with LaTeX\")\n",
    "print(\"✓ Basic technical analysis\")\n",
    "print(\"✓ Risk calculations\")\n",
    "print(\"✓ Simple visualizations\")\n",
    "print(\"✓ Trading strategy backtest\")\n",
    "print(\"\\nNext Steps:\")\n",
    "print(\"1. Load real market data\")\n",
    "print(\"2. Add more indicators\")\n",
    "print(\"3. Improve strategy logic\")\n",
    "print(\"4. Expand risk analysis\")\n",
    "\n",
    "# Save processed data\n",
    "# df.to_csv('trading_analysis_results.csv', index=False)\n",
    "# print(\"\\n💾 Data saved to 'trading_analysis_results.csv'\")"
   ]
  },
  {
   "cell_type": "code",
   "execution_count": null,
   "id": "85d22cf0-9679-4024-ab31-0f64099cbbec",
   "metadata": {},
   "outputs": [],
   "source": []
  }
 ],
 "metadata": {
  "kernelspec": {
   "display_name": "Python 3 (ipykernel)",
   "language": "python",
   "name": "python3"
  },
  "language_info": {
   "codemirror_mode": {
    "name": "ipython",
    "version": 3
   },
   "file_extension": ".py",
   "mimetype": "text/x-python",
   "name": "python",
   "nbconvert_exporter": "python",
   "pygments_lexer": "ipython3",
   "version": "3.13.5"
  }
 },
 "nbformat": 4,
 "nbformat_minor": 5
}
